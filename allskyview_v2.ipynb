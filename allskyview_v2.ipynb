{
 "cells": [
  {
   "cell_type": "code",
   "execution_count": 1,
   "id": "c05bbd1b-0f1b-422d-a0e6-48879e748646",
   "metadata": {},
   "outputs": [],
   "source": [
    "from ant_array2 import RadioArray\n",
    "from allsky_viewer import AllSkyViewer, generate_skycat\n",
    "from astropy.time import Time\n",
    "import ephem\n",
    "import numpy as np\n",
    "import pylab as plt\n",
    "import h5py\n",
    "import hickle as hkl\n",
    "from astropy.coordinates import SkyCoord\n",
    "from coord_utils import skycoord_to_ephem\n",
    "import hdf5plugin"
   ]
  },
  {
   "cell_type": "code",
   "execution_count": 2,
   "id": "5af415a9-a2dd-43d5-99b1-f5660d0b0a45",
   "metadata": {},
   "outputs": [],
   "source": [
    "img_cube_path    = 'eda-channel-sweep-image-cube.h5'\n",
    "h5_metadata_path = 'imaging_metadata_2022.11.14.hkl'\n",
    "antxyz_h5        = 'eda_antenna_locations_v2.h5'\n",
    "\n",
    "h  = h5py.File(img_cube_path, 'r')\n",
    "md = hkl.load(h5_metadata_path)\n",
    "\n",
    "lat = '-26:42:11:95'\n",
    "lon = '116:40:14.93'\n",
    "elev = 500\n",
    "\n",
    "ts = Time(md['time'], format='jd')\n",
    "f_mhz = md['freqs'] / 1e6\n",
    "\n",
    "sun = ephem.Sun()\n",
    "eda = RadioArray(lat, lon, elev, f_mhz, antxyz_h5, t0=ts[0].datetime, verbose=False, \n",
    "                 phase_center=sun, conjugate_data=True)\n",
    "\n",
    "\n",
    "asv = AllSkyViewer(observer=eda, ts=ts[0], f_mhz=f_mhz[0], n_pix=128)\n",
    "skycat = generate_skycat(asv.observer)\n",
    "asv.load_skycat(skycat)"
   ]
  },
  {
   "cell_type": "code",
   "execution_count": 3,
   "id": "939f25e9-113b-454c-8be2-508cbdacc0fe",
   "metadata": {},
   "outputs": [
    {
     "data": {
      "application/vnd.jupyter.widget-view+json": {
       "model_id": "80118eb87bb341349892fae315a2ba5e",
       "version_major": 2,
       "version_minor": 0
      },
      "text/plain": [
       "Canvas(toolbar=Toolbar(toolitems=[('Home', 'Reset original view', 'home', 'home'), ('Back', 'Back to previous …"
      ]
     },
     "metadata": {},
     "output_type": "display_data"
    }
   ],
   "source": [
    "%matplotlib widget\n",
    "idx = 1000\n",
    "img = h['data'][idx, ..., 1]\n",
    "asv.new_fig(6)\n",
    "asv.update(ts=ts[idx], f_mhz=f_mhz[idx])\n",
    "asv.plot(img, overlay_srcs=True)"
   ]
  },
  {
   "cell_type": "markdown",
   "id": "e752c32d-962e-435f-ae76-6839fd820637",
   "metadata": {},
   "source": [
    "### Grab out sources"
   ]
  },
  {
   "cell_type": "code",
   "execution_count": 63,
   "id": "56d46cde-d60b-4699-addd-8c6438bf1d32",
   "metadata": {},
   "outputs": [],
   "source": [
    "import peak_find"
   ]
  },
  {
   "cell_type": "code",
   "execution_count": 89,
   "id": "a0c0ae6f-6c64-4642-95d2-292fe16b4530",
   "metadata": {},
   "outputs": [],
   "source": [
    "peaks = peak_find.persistence(img)"
   ]
  },
  {
   "cell_type": "code",
   "execution_count": 93,
   "id": "8564c2b4-4d74-4cb3-9c62-f5204ba28321",
   "metadata": {
    "collapsed": true,
    "jupyter": {
     "outputs_hidden": true
    },
    "tags": []
   },
   "outputs": [
    {
     "name": "stdout",
     "output_type": "stream",
     "text": [
      "0\n",
      "100\n",
      "200\n",
      "300\n",
      "400\n",
      "500\n",
      "600\n",
      "700\n",
      "800\n",
      "900\n",
      "1000\n",
      "1100\n",
      "1200\n",
      "1300\n",
      "1400\n",
      "1500\n",
      "1600\n",
      "1700\n",
      "1800\n",
      "1900\n",
      "2000\n",
      "2100\n",
      "2200\n",
      "2300\n",
      "2400\n",
      "2500\n",
      "2600\n",
      "2700\n",
      "2800\n",
      "2900\n",
      "3000\n",
      "3100\n",
      "3200\n",
      "3300\n",
      "3400\n",
      "3500\n",
      "3600\n",
      "3700\n",
      "3800\n",
      "3900\n",
      "4000\n",
      "4100\n",
      "4200\n",
      "4300\n",
      "4400\n",
      "4500\n",
      "4600\n",
      "4700\n",
      "4800\n",
      "4900\n",
      "5000\n",
      "5100\n",
      "5200\n",
      "5300\n",
      "5400\n",
      "5500\n",
      "5600\n",
      "5700\n",
      "5800\n",
      "5900\n",
      "6000\n",
      "6100\n",
      "6200\n",
      "6300\n",
      "6400\n",
      "6500\n",
      "6600\n",
      "6700\n",
      "6800\n",
      "6900\n",
      "7000\n",
      "7100\n",
      "7200\n",
      "7300\n",
      "7400\n",
      "7500\n",
      "7600\n",
      "7700\n",
      "7800\n",
      "7900\n",
      "8000\n",
      "8100\n",
      "8200\n",
      "8300\n",
      "8400\n",
      "8500\n",
      "8600\n",
      "8700\n",
      "8800\n",
      "8900\n",
      "9000\n",
      "9100\n",
      "9200\n",
      "9300\n",
      "9400\n",
      "9500\n",
      "9600\n",
      "9700\n",
      "9800\n",
      "9900\n",
      "10000\n",
      "10100\n",
      "10200\n",
      "10300\n",
      "10400\n",
      "10500\n",
      "10600\n",
      "10700\n",
      "10800\n",
      "10900\n",
      "11000\n",
      "11100\n"
     ]
    }
   ],
   "source": [
    "peaklist = []\n",
    "for ii in range(len(f_mhz)):\n",
    "    img = h['data'][ii, :, :, 0]\n",
    "    peaks = peak_find.persistence(img)\n",
    "    peaklist.append(peaks[:10])\n",
    "    if ii % 100 == 0: print(ii)"
   ]
  },
  {
   "cell_type": "code",
   "execution_count": 81,
   "id": "ba0b4bd1-8b6e-4764-9b33-fe646902493a",
   "metadata": {},
   "outputs": [],
   "source": [
    "idxarr = []\n",
    "for p in peaks:\n",
    "    idxarr.append(p[0])\n",
    "idxarr = np.array(idxarr)"
   ]
  },
  {
   "cell_type": "code",
   "execution_count": 100,
   "id": "0826a84c-5015-42f4-9fbf-c61edcba12f4",
   "metadata": {
    "collapsed": true,
    "jupyter": {
     "outputs_hidden": true
    },
    "tags": []
   },
   "outputs": [
    {
     "ename": "KeyboardInterrupt",
     "evalue": "",
     "output_type": "error",
     "traceback": [
      "\u001b[0;31m---------------------------------------------------------------------------\u001b[0m",
      "\u001b[0;31mKeyboardInterrupt\u001b[0m                         Traceback (most recent call last)",
      "\u001b[0;32m/var/folders/n3/pbwrsp713bd28_l4xt61c7zh0000gn/T/ipykernel_44581/2286631326.py\u001b[0m in \u001b[0;36m<module>\u001b[0;34m\u001b[0m\n\u001b[0;32m----> 1\u001b[0;31m \u001b[0mhkl\u001b[0m\u001b[0;34m.\u001b[0m\u001b[0mdump\u001b[0m\u001b[0;34m(\u001b[0m\u001b[0mpeaklist\u001b[0m\u001b[0;34m,\u001b[0m \u001b[0;34m\"2022.11.16-prominent-peaks.hkl\"\u001b[0m\u001b[0;34m)\u001b[0m\u001b[0;34m\u001b[0m\u001b[0;34m\u001b[0m\u001b[0m\n\u001b[0m",
      "\u001b[0;32m~/Data/install/py/hickle/hickle/hickle.py\u001b[0m in \u001b[0;36mdump\u001b[0;34m(py_obj, file_obj, mode, path, filename, options, **kwargs)\u001b[0m\n\u001b[1;32m    234\u001b[0m         \u001b[0;32mwith\u001b[0m \u001b[0mLoaderManager\u001b[0m\u001b[0;34m.\u001b[0m\u001b[0mcreate_manager\u001b[0m\u001b[0;34m(\u001b[0m\u001b[0mh_root_group\u001b[0m\u001b[0;34m,\u001b[0m\u001b[0;32mFalse\u001b[0m\u001b[0;34m,\u001b[0m\u001b[0moptions\u001b[0m\u001b[0;34m)\u001b[0m \u001b[0;32mas\u001b[0m \u001b[0mloader\u001b[0m\u001b[0;34m:\u001b[0m\u001b[0;34m\u001b[0m\u001b[0;34m\u001b[0m\u001b[0m\n\u001b[1;32m    235\u001b[0m             \u001b[0;32mwith\u001b[0m \u001b[0mReferenceManager\u001b[0m\u001b[0;34m.\u001b[0m\u001b[0mcreate_manager\u001b[0m\u001b[0;34m(\u001b[0m\u001b[0mh_root_group\u001b[0m\u001b[0;34m)\u001b[0m \u001b[0;32mas\u001b[0m \u001b[0mmemo\u001b[0m\u001b[0;34m:\u001b[0m\u001b[0;34m\u001b[0m\u001b[0;34m\u001b[0m\u001b[0m\n\u001b[0;32m--> 236\u001b[0;31m                 \u001b[0m_dump\u001b[0m\u001b[0;34m(\u001b[0m\u001b[0mpy_obj\u001b[0m\u001b[0;34m,\u001b[0m \u001b[0mh_root_group\u001b[0m\u001b[0;34m,\u001b[0m\u001b[0;34m'data'\u001b[0m\u001b[0;34m,\u001b[0m \u001b[0mmemo\u001b[0m \u001b[0;34m,\u001b[0m\u001b[0mloader\u001b[0m\u001b[0;34m,\u001b[0m\u001b[0;34m**\u001b[0m\u001b[0mkwargs\u001b[0m\u001b[0;34m)\u001b[0m\u001b[0;34m\u001b[0m\u001b[0;34m\u001b[0m\u001b[0m\n\u001b[0m\u001b[1;32m    237\u001b[0m     \u001b[0;32mfinally\u001b[0m\u001b[0;34m:\u001b[0m\u001b[0;34m\u001b[0m\u001b[0;34m\u001b[0m\u001b[0m\n\u001b[1;32m    238\u001b[0m         \u001b[0;31m# Flush the the h5py.File  and close it if it was opened by hickle.\u001b[0m\u001b[0;34m\u001b[0m\u001b[0;34m\u001b[0m\u001b[0;34m\u001b[0m\u001b[0m\n",
      "\u001b[0;32m~/Data/install/py/hickle/hickle/hickle.py\u001b[0m in \u001b[0;36m_dump\u001b[0;34m(py_obj, h_group, name, memo, loader, attrs, **kwargs)\u001b[0m\n\u001b[1;32m    143\u001b[0m     \u001b[0;31m# to HDF5 file\u001b[0m\u001b[0;34m\u001b[0m\u001b[0;34m\u001b[0m\u001b[0;34m\u001b[0m\u001b[0m\n\u001b[1;32m    144\u001b[0m     \u001b[0;32mfor\u001b[0m \u001b[0mh_subname\u001b[0m\u001b[0;34m,\u001b[0m\u001b[0mpy_subobj\u001b[0m\u001b[0;34m,\u001b[0m\u001b[0mh_subattrs\u001b[0m\u001b[0;34m,\u001b[0m\u001b[0msub_kwargs\u001b[0m \u001b[0;32min\u001b[0m \u001b[0mh_subitems\u001b[0m\u001b[0;34m:\u001b[0m\u001b[0;34m\u001b[0m\u001b[0;34m\u001b[0m\u001b[0m\n\u001b[0;32m--> 145\u001b[0;31m         \u001b[0m_dump\u001b[0m\u001b[0;34m(\u001b[0m\u001b[0mpy_subobj\u001b[0m\u001b[0;34m,\u001b[0m\u001b[0mh_node\u001b[0m\u001b[0;34m,\u001b[0m\u001b[0mh_subname\u001b[0m\u001b[0;34m,\u001b[0m\u001b[0mmemo\u001b[0m\u001b[0;34m,\u001b[0m\u001b[0mloader\u001b[0m\u001b[0;34m,\u001b[0m\u001b[0mh_subattrs\u001b[0m\u001b[0;34m,\u001b[0m\u001b[0;34m**\u001b[0m\u001b[0msub_kwargs\u001b[0m\u001b[0;34m)\u001b[0m\u001b[0;34m\u001b[0m\u001b[0;34m\u001b[0m\u001b[0m\n\u001b[0m\u001b[1;32m    146\u001b[0m \u001b[0;34m\u001b[0m\u001b[0m\n\u001b[1;32m    147\u001b[0m \u001b[0;34m\u001b[0m\u001b[0m\n",
      "\u001b[0;32m~/Data/install/py/hickle/hickle/hickle.py\u001b[0m in \u001b[0;36m_dump\u001b[0;34m(py_obj, h_group, name, memo, loader, attrs, **kwargs)\u001b[0m\n\u001b[1;32m    143\u001b[0m     \u001b[0;31m# to HDF5 file\u001b[0m\u001b[0;34m\u001b[0m\u001b[0;34m\u001b[0m\u001b[0;34m\u001b[0m\u001b[0m\n\u001b[1;32m    144\u001b[0m     \u001b[0;32mfor\u001b[0m \u001b[0mh_subname\u001b[0m\u001b[0;34m,\u001b[0m\u001b[0mpy_subobj\u001b[0m\u001b[0;34m,\u001b[0m\u001b[0mh_subattrs\u001b[0m\u001b[0;34m,\u001b[0m\u001b[0msub_kwargs\u001b[0m \u001b[0;32min\u001b[0m \u001b[0mh_subitems\u001b[0m\u001b[0;34m:\u001b[0m\u001b[0;34m\u001b[0m\u001b[0;34m\u001b[0m\u001b[0m\n\u001b[0;32m--> 145\u001b[0;31m         \u001b[0m_dump\u001b[0m\u001b[0;34m(\u001b[0m\u001b[0mpy_subobj\u001b[0m\u001b[0;34m,\u001b[0m\u001b[0mh_node\u001b[0m\u001b[0;34m,\u001b[0m\u001b[0mh_subname\u001b[0m\u001b[0;34m,\u001b[0m\u001b[0mmemo\u001b[0m\u001b[0;34m,\u001b[0m\u001b[0mloader\u001b[0m\u001b[0;34m,\u001b[0m\u001b[0mh_subattrs\u001b[0m\u001b[0;34m,\u001b[0m\u001b[0;34m**\u001b[0m\u001b[0msub_kwargs\u001b[0m\u001b[0;34m)\u001b[0m\u001b[0;34m\u001b[0m\u001b[0;34m\u001b[0m\u001b[0m\n\u001b[0m\u001b[1;32m    146\u001b[0m \u001b[0;34m\u001b[0m\u001b[0m\n\u001b[1;32m    147\u001b[0m \u001b[0;34m\u001b[0m\u001b[0m\n",
      "\u001b[0;32m~/Data/install/py/hickle/hickle/hickle.py\u001b[0m in \u001b[0;36m_dump\u001b[0;34m(py_obj, h_group, name, memo, loader, attrs, **kwargs)\u001b[0m\n\u001b[1;32m    143\u001b[0m     \u001b[0;31m# to HDF5 file\u001b[0m\u001b[0;34m\u001b[0m\u001b[0;34m\u001b[0m\u001b[0;34m\u001b[0m\u001b[0m\n\u001b[1;32m    144\u001b[0m     \u001b[0;32mfor\u001b[0m \u001b[0mh_subname\u001b[0m\u001b[0;34m,\u001b[0m\u001b[0mpy_subobj\u001b[0m\u001b[0;34m,\u001b[0m\u001b[0mh_subattrs\u001b[0m\u001b[0;34m,\u001b[0m\u001b[0msub_kwargs\u001b[0m \u001b[0;32min\u001b[0m \u001b[0mh_subitems\u001b[0m\u001b[0;34m:\u001b[0m\u001b[0;34m\u001b[0m\u001b[0;34m\u001b[0m\u001b[0m\n\u001b[0;32m--> 145\u001b[0;31m         \u001b[0m_dump\u001b[0m\u001b[0;34m(\u001b[0m\u001b[0mpy_subobj\u001b[0m\u001b[0;34m,\u001b[0m\u001b[0mh_node\u001b[0m\u001b[0;34m,\u001b[0m\u001b[0mh_subname\u001b[0m\u001b[0;34m,\u001b[0m\u001b[0mmemo\u001b[0m\u001b[0;34m,\u001b[0m\u001b[0mloader\u001b[0m\u001b[0;34m,\u001b[0m\u001b[0mh_subattrs\u001b[0m\u001b[0;34m,\u001b[0m\u001b[0;34m**\u001b[0m\u001b[0msub_kwargs\u001b[0m\u001b[0;34m)\u001b[0m\u001b[0;34m\u001b[0m\u001b[0;34m\u001b[0m\u001b[0m\n\u001b[0m\u001b[1;32m    146\u001b[0m \u001b[0;34m\u001b[0m\u001b[0m\n\u001b[1;32m    147\u001b[0m \u001b[0;34m\u001b[0m\u001b[0m\n",
      "\u001b[0;32m~/Data/install/py/hickle/hickle/hickle.py\u001b[0m in \u001b[0;36m_dump\u001b[0;34m(py_obj, h_group, name, memo, loader, attrs, **kwargs)\u001b[0m\n\u001b[1;32m    122\u001b[0m     \u001b[0mpy_obj_type\u001b[0m\u001b[0;34m,\u001b[0m \u001b[0;34m(\u001b[0m\u001b[0mcreate_dataset\u001b[0m\u001b[0;34m,\u001b[0m \u001b[0mbase_type\u001b[0m\u001b[0;34m,\u001b[0m\u001b[0mmemoise\u001b[0m\u001b[0;34m)\u001b[0m \u001b[0;34m=\u001b[0m \u001b[0mloader\u001b[0m\u001b[0;34m.\u001b[0m\u001b[0mload_loader\u001b[0m\u001b[0;34m(\u001b[0m\u001b[0mpy_obj\u001b[0m\u001b[0;34m.\u001b[0m\u001b[0m__class__\u001b[0m\u001b[0;34m)\u001b[0m\u001b[0;34m\u001b[0m\u001b[0;34m\u001b[0m\u001b[0m\n\u001b[1;32m    123\u001b[0m     \u001b[0;32mtry\u001b[0m\u001b[0;34m:\u001b[0m\u001b[0;34m\u001b[0m\u001b[0;34m\u001b[0m\u001b[0m\n\u001b[0;32m--> 124\u001b[0;31m         \u001b[0mh_node\u001b[0m\u001b[0;34m,\u001b[0m\u001b[0mh_subitems\u001b[0m \u001b[0;34m=\u001b[0m \u001b[0mcreate_dataset\u001b[0m\u001b[0;34m(\u001b[0m\u001b[0mpy_obj\u001b[0m\u001b[0;34m,\u001b[0m \u001b[0mh_group\u001b[0m\u001b[0;34m,\u001b[0m \u001b[0mname\u001b[0m\u001b[0;34m,\u001b[0m \u001b[0;34m**\u001b[0m\u001b[0mkwargs\u001b[0m\u001b[0;34m)\u001b[0m\u001b[0;34m\u001b[0m\u001b[0;34m\u001b[0m\u001b[0m\n\u001b[0m\u001b[1;32m    125\u001b[0m     \u001b[0;32mexcept\u001b[0m \u001b[0mNotHicklable\u001b[0m\u001b[0;34m:\u001b[0m\u001b[0;34m\u001b[0m\u001b[0;34m\u001b[0m\u001b[0m\n\u001b[1;32m    126\u001b[0m         \u001b[0mh_node\u001b[0m\u001b[0;34m,\u001b[0m\u001b[0mh_subitems\u001b[0m \u001b[0;34m=\u001b[0m \u001b[0mcreate_pickled_dataset\u001b[0m\u001b[0;34m(\u001b[0m\u001b[0mpy_obj\u001b[0m\u001b[0;34m,\u001b[0m \u001b[0mh_group\u001b[0m\u001b[0;34m,\u001b[0m \u001b[0mname\u001b[0m\u001b[0;34m,\u001b[0m \u001b[0mreason\u001b[0m \u001b[0;34m=\u001b[0m \u001b[0mstr\u001b[0m\u001b[0;34m(\u001b[0m\u001b[0mNotHicklable\u001b[0m\u001b[0;34m)\u001b[0m\u001b[0;34m,\u001b[0m \u001b[0;34m**\u001b[0m\u001b[0mkwargs\u001b[0m\u001b[0;34m)\u001b[0m\u001b[0;34m\u001b[0m\u001b[0;34m\u001b[0m\u001b[0m\n",
      "\u001b[0;32m~/Data/install/py/hickle/hickle/loaders/load_builtins.py\u001b[0m in \u001b[0;36mcreate_listlike_dataset\u001b[0;34m(py_obj, h_group, name, list_len, item_dtype, **kwargs)\u001b[0m\n\u001b[1;32m    189\u001b[0m         \u001b[0;31m# create a dataset and map all items to least common dtype\u001b[0m\u001b[0;34m\u001b[0m\u001b[0;34m\u001b[0m\u001b[0;34m\u001b[0m\u001b[0m\n\u001b[1;32m    190\u001b[0m         \u001b[0mshape\u001b[0m \u001b[0;34m=\u001b[0m \u001b[0;34m(\u001b[0m\u001b[0mlist_len\u001b[0m\u001b[0;34m,\u001b[0m\u001b[0;34m)\u001b[0m \u001b[0;32mif\u001b[0m \u001b[0mlist_len\u001b[0m \u001b[0;34m>\u001b[0m \u001b[0;36m0\u001b[0m \u001b[0;32melse\u001b[0m \u001b[0;32mNone\u001b[0m\u001b[0;34m\u001b[0m\u001b[0;34m\u001b[0m\u001b[0m\n\u001b[0;32m--> 191\u001b[0;31m         \u001b[0mdataset\u001b[0m \u001b[0;34m=\u001b[0m \u001b[0mh_group\u001b[0m\u001b[0;34m.\u001b[0m\u001b[0mcreate_dataset\u001b[0m\u001b[0;34m(\u001b[0m\u001b[0mname\u001b[0m\u001b[0;34m,\u001b[0m\u001b[0mshape\u001b[0m \u001b[0;34m=\u001b[0m \u001b[0mshape\u001b[0m\u001b[0;34m,\u001b[0m\u001b[0mdtype\u001b[0m \u001b[0;34m=\u001b[0m \u001b[0mitem_dtype\u001b[0m\u001b[0;34m,\u001b[0m\u001b[0;34m**\u001b[0m\u001b[0mkwargs\u001b[0m\u001b[0;34m)\u001b[0m\u001b[0;34m\u001b[0m\u001b[0;34m\u001b[0m\u001b[0m\n\u001b[0m\u001b[1;32m    192\u001b[0m         \u001b[0;32mfor\u001b[0m \u001b[0mindex\u001b[0m\u001b[0;34m,\u001b[0m\u001b[0mitem\u001b[0m \u001b[0;32min\u001b[0m \u001b[0menumerate\u001b[0m\u001b[0;34m(\u001b[0m\u001b[0mpy_obj\u001b[0m\u001b[0;34m,\u001b[0m\u001b[0;36m0\u001b[0m\u001b[0;34m)\u001b[0m\u001b[0;34m:\u001b[0m\u001b[0;34m\u001b[0m\u001b[0;34m\u001b[0m\u001b[0m\n\u001b[1;32m    193\u001b[0m             \u001b[0mdataset\u001b[0m\u001b[0;34m[\u001b[0m\u001b[0mindex\u001b[0m\u001b[0;34m]\u001b[0m \u001b[0;34m=\u001b[0m \u001b[0mitem_dtype\u001b[0m\u001b[0;34m.\u001b[0m\u001b[0mtype\u001b[0m\u001b[0;34m(\u001b[0m\u001b[0mitem\u001b[0m\u001b[0;34m)\u001b[0m\u001b[0;34m\u001b[0m\u001b[0;34m\u001b[0m\u001b[0m\n",
      "\u001b[0;32m~/opt/anaconda3/lib/python3.8/site-packages/h5py/_hl/group.py\u001b[0m in \u001b[0;36mcreate_dataset\u001b[0;34m(self, name, shape, dtype, data, **kwds)\u001b[0m\n\u001b[1;32m    137\u001b[0m             \u001b[0mdset\u001b[0m \u001b[0;34m=\u001b[0m \u001b[0mdataset\u001b[0m\u001b[0;34m.\u001b[0m\u001b[0mDataset\u001b[0m\u001b[0;34m(\u001b[0m\u001b[0mdsid\u001b[0m\u001b[0;34m)\u001b[0m\u001b[0;34m\u001b[0m\u001b[0;34m\u001b[0m\u001b[0m\n\u001b[1;32m    138\u001b[0m             \u001b[0;32mif\u001b[0m \u001b[0mname\u001b[0m \u001b[0;32mis\u001b[0m \u001b[0;32mnot\u001b[0m \u001b[0;32mNone\u001b[0m\u001b[0;34m:\u001b[0m\u001b[0;34m\u001b[0m\u001b[0;34m\u001b[0m\u001b[0m\n\u001b[0;32m--> 139\u001b[0;31m                 \u001b[0mself\u001b[0m\u001b[0;34m[\u001b[0m\u001b[0mname\u001b[0m\u001b[0;34m]\u001b[0m \u001b[0;34m=\u001b[0m \u001b[0mdset\u001b[0m\u001b[0;34m\u001b[0m\u001b[0;34m\u001b[0m\u001b[0m\n\u001b[0m\u001b[1;32m    140\u001b[0m             \u001b[0;32mreturn\u001b[0m \u001b[0mdset\u001b[0m\u001b[0;34m\u001b[0m\u001b[0;34m\u001b[0m\u001b[0m\n\u001b[1;32m    141\u001b[0m \u001b[0;34m\u001b[0m\u001b[0m\n",
      "\u001b[0;32m~/opt/anaconda3/lib/python3.8/site-packages/h5py/_hl/group.py\u001b[0m in \u001b[0;36m__setitem__\u001b[0;34m(self, name, obj)\u001b[0m\n\u001b[1;32m    371\u001b[0m \u001b[0;34m\u001b[0m\u001b[0m\n\u001b[1;32m    372\u001b[0m             \u001b[0;32mif\u001b[0m \u001b[0misinstance\u001b[0m\u001b[0;34m(\u001b[0m\u001b[0mobj\u001b[0m\u001b[0;34m,\u001b[0m \u001b[0mHLObject\u001b[0m\u001b[0;34m)\u001b[0m\u001b[0;34m:\u001b[0m\u001b[0;34m\u001b[0m\u001b[0;34m\u001b[0m\u001b[0m\n\u001b[0;32m--> 373\u001b[0;31m                 \u001b[0mh5o\u001b[0m\u001b[0;34m.\u001b[0m\u001b[0mlink\u001b[0m\u001b[0;34m(\u001b[0m\u001b[0mobj\u001b[0m\u001b[0;34m.\u001b[0m\u001b[0mid\u001b[0m\u001b[0;34m,\u001b[0m \u001b[0mself\u001b[0m\u001b[0;34m.\u001b[0m\u001b[0mid\u001b[0m\u001b[0;34m,\u001b[0m \u001b[0mname\u001b[0m\u001b[0;34m,\u001b[0m \u001b[0mlcpl\u001b[0m\u001b[0;34m=\u001b[0m\u001b[0mlcpl\u001b[0m\u001b[0;34m,\u001b[0m \u001b[0mlapl\u001b[0m\u001b[0;34m=\u001b[0m\u001b[0mself\u001b[0m\u001b[0;34m.\u001b[0m\u001b[0m_lapl\u001b[0m\u001b[0;34m)\u001b[0m\u001b[0;34m\u001b[0m\u001b[0;34m\u001b[0m\u001b[0m\n\u001b[0m\u001b[1;32m    374\u001b[0m \u001b[0;34m\u001b[0m\u001b[0m\n\u001b[1;32m    375\u001b[0m             \u001b[0;32melif\u001b[0m \u001b[0misinstance\u001b[0m\u001b[0;34m(\u001b[0m\u001b[0mobj\u001b[0m\u001b[0;34m,\u001b[0m \u001b[0mSoftLink\u001b[0m\u001b[0;34m)\u001b[0m\u001b[0;34m:\u001b[0m\u001b[0;34m\u001b[0m\u001b[0;34m\u001b[0m\u001b[0m\n",
      "\u001b[0;31mKeyboardInterrupt\u001b[0m: "
     ]
    }
   ],
   "source": [
    "hkl.dump(peaklist, \"2022.11.16-prominent-peaks.hkl\")"
   ]
  },
  {
   "cell_type": "code",
   "execution_count": 5,
   "id": "0b6210e6-e1e7-4e1a-b7a9-dfefe849a794",
   "metadata": {
    "collapsed": true,
    "jupyter": {
     "outputs_hidden": true
    },
    "tags": []
   },
   "outputs": [
    {
     "ename": "KeyboardInterrupt",
     "evalue": "",
     "output_type": "error",
     "traceback": [
      "\u001b[0;31m---------------------------------------------------------------------------\u001b[0m",
      "\u001b[0;31mKeyboardInterrupt\u001b[0m                         Traceback (most recent call last)",
      "\u001b[0;32m/var/folders/n3/pbwrsp713bd28_l4xt61c7zh0000gn/T/ipykernel_809/286346288.py\u001b[0m in \u001b[0;36m<module>\u001b[0;34m\u001b[0m\n\u001b[0;32m----> 1\u001b[0;31m \u001b[0mpeaklist\u001b[0m \u001b[0;34m=\u001b[0m \u001b[0mhkl\u001b[0m\u001b[0;34m.\u001b[0m\u001b[0mload\u001b[0m\u001b[0;34m(\u001b[0m\u001b[0;34m\"2022.11.16-prominent-peaks.hkl\"\u001b[0m\u001b[0;34m)\u001b[0m\u001b[0;34m\u001b[0m\u001b[0;34m\u001b[0m\u001b[0m\n\u001b[0m",
      "\u001b[0;32m~/Data/install/py/hickle/hickle/hickle.py\u001b[0m in \u001b[0;36mload\u001b[0;34m(file_obj, path, safe, filename)\u001b[0m\n\u001b[1;32m    377\u001b[0m             \u001b[0;32mwith\u001b[0m \u001b[0mLoaderManager\u001b[0m\u001b[0;34m.\u001b[0m\u001b[0mcreate_manager\u001b[0m\u001b[0;34m(\u001b[0m \u001b[0mh_root_group\u001b[0m\u001b[0;34m,\u001b[0m\u001b[0;32mFalse\u001b[0m\u001b[0;34m)\u001b[0m \u001b[0;32mas\u001b[0m \u001b[0mloader\u001b[0m\u001b[0;34m:\u001b[0m\u001b[0;34m\u001b[0m\u001b[0;34m\u001b[0m\u001b[0m\n\u001b[1;32m    378\u001b[0m                 \u001b[0;32mwith\u001b[0m \u001b[0mReferenceManager\u001b[0m\u001b[0;34m.\u001b[0m\u001b[0mcreate_manager\u001b[0m\u001b[0;34m(\u001b[0m\u001b[0mh_root_group\u001b[0m\u001b[0;34m,\u001b[0m\u001b[0mpickle_loads\u001b[0m\u001b[0;34m)\u001b[0m \u001b[0;32mas\u001b[0m \u001b[0mmemo\u001b[0m\u001b[0;34m:\u001b[0m\u001b[0;34m\u001b[0m\u001b[0;34m\u001b[0m\u001b[0m\n\u001b[0;32m--> 379\u001b[0;31m                     \u001b[0m_load\u001b[0m\u001b[0;34m(\u001b[0m\u001b[0mpy_container\u001b[0m\u001b[0;34m,\u001b[0m \u001b[0;34m'data'\u001b[0m\u001b[0;34m,\u001b[0m\u001b[0mh_root_group\u001b[0m\u001b[0;34m[\u001b[0m\u001b[0;34m'data'\u001b[0m\u001b[0;34m]\u001b[0m\u001b[0;34m,\u001b[0m\u001b[0mmemo\u001b[0m\u001b[0;34m,\u001b[0m\u001b[0mloader\u001b[0m\u001b[0;34m)\u001b[0m \u001b[0;31m#load_loader = load_loader)\u001b[0m\u001b[0;34m\u001b[0m\u001b[0;34m\u001b[0m\u001b[0m\n\u001b[0m\u001b[1;32m    380\u001b[0m             \u001b[0;32mreturn\u001b[0m \u001b[0mpy_container\u001b[0m\u001b[0;34m.\u001b[0m\u001b[0mconvert\u001b[0m\u001b[0;34m(\u001b[0m\u001b[0;34m)\u001b[0m\u001b[0;34m\u001b[0m\u001b[0;34m\u001b[0m\u001b[0m\n\u001b[1;32m    381\u001b[0m \u001b[0;34m\u001b[0m\u001b[0m\n",
      "\u001b[0;32m~/Data/install/py/hickle/hickle/hickle.py\u001b[0m in \u001b[0;36m_load\u001b[0;34m(py_container, h_name, h_node, memo, loader)\u001b[0m\n\u001b[1;32m    448\u001b[0m \u001b[0;34m\u001b[0m\u001b[0m\n\u001b[1;32m    449\u001b[0m         \u001b[0;32mfor\u001b[0m \u001b[0mh_key\u001b[0m\u001b[0;34m,\u001b[0m\u001b[0mh_subnode\u001b[0m \u001b[0;32min\u001b[0m \u001b[0mpy_subcontainer\u001b[0m\u001b[0;34m.\u001b[0m\u001b[0mfilter\u001b[0m\u001b[0;34m(\u001b[0m\u001b[0mh_node\u001b[0m\u001b[0;34m)\u001b[0m\u001b[0;34m:\u001b[0m\u001b[0;34m\u001b[0m\u001b[0;34m\u001b[0m\u001b[0m\n\u001b[0;32m--> 450\u001b[0;31m             \u001b[0m_load\u001b[0m\u001b[0;34m(\u001b[0m\u001b[0mpy_subcontainer\u001b[0m\u001b[0;34m,\u001b[0m \u001b[0mh_key\u001b[0m\u001b[0;34m,\u001b[0m \u001b[0mh_subnode\u001b[0m\u001b[0;34m,\u001b[0m \u001b[0mmemo\u001b[0m \u001b[0;34m,\u001b[0m\u001b[0mloader\u001b[0m\u001b[0;34m)\u001b[0m\u001b[0;34m\u001b[0m\u001b[0;34m\u001b[0m\u001b[0m\n\u001b[0m\u001b[1;32m    451\u001b[0m \u001b[0;34m\u001b[0m\u001b[0m\n\u001b[1;32m    452\u001b[0m         \u001b[0;31m# finalize sub item\u001b[0m\u001b[0;34m\u001b[0m\u001b[0;34m\u001b[0m\u001b[0;34m\u001b[0m\u001b[0m\n",
      "\u001b[0;32m~/Data/install/py/hickle/hickle/hickle.py\u001b[0m in \u001b[0;36m_load\u001b[0;34m(py_container, h_name, h_node, memo, loader)\u001b[0m\n\u001b[1;32m    448\u001b[0m \u001b[0;34m\u001b[0m\u001b[0m\n\u001b[1;32m    449\u001b[0m         \u001b[0;32mfor\u001b[0m \u001b[0mh_key\u001b[0m\u001b[0;34m,\u001b[0m\u001b[0mh_subnode\u001b[0m \u001b[0;32min\u001b[0m \u001b[0mpy_subcontainer\u001b[0m\u001b[0;34m.\u001b[0m\u001b[0mfilter\u001b[0m\u001b[0;34m(\u001b[0m\u001b[0mh_node\u001b[0m\u001b[0;34m)\u001b[0m\u001b[0;34m:\u001b[0m\u001b[0;34m\u001b[0m\u001b[0;34m\u001b[0m\u001b[0m\n\u001b[0;32m--> 450\u001b[0;31m             \u001b[0m_load\u001b[0m\u001b[0;34m(\u001b[0m\u001b[0mpy_subcontainer\u001b[0m\u001b[0;34m,\u001b[0m \u001b[0mh_key\u001b[0m\u001b[0;34m,\u001b[0m \u001b[0mh_subnode\u001b[0m\u001b[0;34m,\u001b[0m \u001b[0mmemo\u001b[0m \u001b[0;34m,\u001b[0m\u001b[0mloader\u001b[0m\u001b[0;34m)\u001b[0m\u001b[0;34m\u001b[0m\u001b[0;34m\u001b[0m\u001b[0m\n\u001b[0m\u001b[1;32m    451\u001b[0m \u001b[0;34m\u001b[0m\u001b[0m\n\u001b[1;32m    452\u001b[0m         \u001b[0;31m# finalize sub item\u001b[0m\u001b[0;34m\u001b[0m\u001b[0;34m\u001b[0m\u001b[0;34m\u001b[0m\u001b[0m\n",
      "\u001b[0;32m~/Data/install/py/hickle/hickle/hickle.py\u001b[0m in \u001b[0;36m_load\u001b[0;34m(py_container, h_name, h_node, memo, loader)\u001b[0m\n\u001b[1;32m    448\u001b[0m \u001b[0;34m\u001b[0m\u001b[0m\n\u001b[1;32m    449\u001b[0m         \u001b[0;32mfor\u001b[0m \u001b[0mh_key\u001b[0m\u001b[0;34m,\u001b[0m\u001b[0mh_subnode\u001b[0m \u001b[0;32min\u001b[0m \u001b[0mpy_subcontainer\u001b[0m\u001b[0;34m.\u001b[0m\u001b[0mfilter\u001b[0m\u001b[0;34m(\u001b[0m\u001b[0mh_node\u001b[0m\u001b[0;34m)\u001b[0m\u001b[0;34m:\u001b[0m\u001b[0;34m\u001b[0m\u001b[0;34m\u001b[0m\u001b[0m\n\u001b[0;32m--> 450\u001b[0;31m             \u001b[0m_load\u001b[0m\u001b[0;34m(\u001b[0m\u001b[0mpy_subcontainer\u001b[0m\u001b[0;34m,\u001b[0m \u001b[0mh_key\u001b[0m\u001b[0;34m,\u001b[0m \u001b[0mh_subnode\u001b[0m\u001b[0;34m,\u001b[0m \u001b[0mmemo\u001b[0m \u001b[0;34m,\u001b[0m\u001b[0mloader\u001b[0m\u001b[0;34m)\u001b[0m\u001b[0;34m\u001b[0m\u001b[0;34m\u001b[0m\u001b[0m\n\u001b[0m\u001b[1;32m    451\u001b[0m \u001b[0;34m\u001b[0m\u001b[0m\n\u001b[1;32m    452\u001b[0m         \u001b[0;31m# finalize sub item\u001b[0m\u001b[0;34m\u001b[0m\u001b[0;34m\u001b[0m\u001b[0;34m\u001b[0m\u001b[0m\n",
      "\u001b[0;32m~/Data/install/py/hickle/hickle/hickle.py\u001b[0m in \u001b[0;36m_load\u001b[0;34m(py_container, h_name, h_node, memo, loader)\u001b[0m\n\u001b[1;32m    459\u001b[0m         \u001b[0;31m# instead to at least recover the contained data\u001b[0m\u001b[0;34m\u001b[0m\u001b[0;34m\u001b[0m\u001b[0;34m\u001b[0m\u001b[0m\n\u001b[1;32m    460\u001b[0m         \u001b[0mload_fn\u001b[0m \u001b[0;34m=\u001b[0m \u001b[0mloader\u001b[0m\u001b[0;34m.\u001b[0m\u001b[0mhkl_types_dict\u001b[0m\u001b[0;34m.\u001b[0m\u001b[0mget\u001b[0m\u001b[0;34m(\u001b[0m\u001b[0mbase_type\u001b[0m\u001b[0;34m,\u001b[0m \u001b[0mrecover_custom_dataset\u001b[0m\u001b[0;34m)\u001b[0m\u001b[0;34m\u001b[0m\u001b[0;34m\u001b[0m\u001b[0m\n\u001b[0;32m--> 461\u001b[0;31m         \u001b[0msub_data\u001b[0m \u001b[0;34m=\u001b[0m \u001b[0mload_fn\u001b[0m\u001b[0;34m(\u001b[0m\u001b[0mh_node\u001b[0m\u001b[0;34m,\u001b[0m\u001b[0mbase_type\u001b[0m\u001b[0;34m,\u001b[0m\u001b[0mpy_obj_type\u001b[0m\u001b[0;34m)\u001b[0m\u001b[0;34m\u001b[0m\u001b[0;34m\u001b[0m\u001b[0m\n\u001b[0m\u001b[1;32m    462\u001b[0m         \u001b[0mpy_container\u001b[0m\u001b[0;34m.\u001b[0m\u001b[0mappend\u001b[0m\u001b[0;34m(\u001b[0m\u001b[0mh_name\u001b[0m\u001b[0;34m,\u001b[0m\u001b[0msub_data\u001b[0m\u001b[0;34m,\u001b[0m\u001b[0mh_node\u001b[0m\u001b[0;34m.\u001b[0m\u001b[0mattrs\u001b[0m\u001b[0;34m)\u001b[0m\u001b[0;34m\u001b[0m\u001b[0;34m\u001b[0m\u001b[0m\n\u001b[1;32m    463\u001b[0m \u001b[0;34m\u001b[0m\u001b[0m\n",
      "\u001b[0;32m~/Data/install/py/hickle/hickle/loaders/load_numpy.py\u001b[0m in \u001b[0;36mload_np_scalar_dataset\u001b[0;34m(h_node, base_type, py_obj_type)\u001b[0m\n\u001b[1;32m    203\u001b[0m \u001b[0;34m\u001b[0m\u001b[0m\n\u001b[1;32m    204\u001b[0m     \u001b[0mdtype\u001b[0m \u001b[0;34m=\u001b[0m \u001b[0mnp\u001b[0m\u001b[0;34m.\u001b[0m\u001b[0mdtype\u001b[0m\u001b[0;34m(\u001b[0m\u001b[0mh_node\u001b[0m\u001b[0;34m.\u001b[0m\u001b[0mattrs\u001b[0m\u001b[0;34m[\u001b[0m\u001b[0;34m\"np_dtype\"\u001b[0m\u001b[0;34m]\u001b[0m\u001b[0;34m)\u001b[0m\u001b[0;34m\u001b[0m\u001b[0;34m\u001b[0m\u001b[0m\n\u001b[0;32m--> 205\u001b[0;31m     \u001b[0;32mreturn\u001b[0m \u001b[0mdtype\u001b[0m\u001b[0;34m.\u001b[0m\u001b[0mtype\u001b[0m\u001b[0;34m(\u001b[0m\u001b[0mh_node\u001b[0m\u001b[0;34m[\u001b[0m\u001b[0;34m(\u001b[0m\u001b[0;34m)\u001b[0m\u001b[0;34m]\u001b[0m\u001b[0;34m)\u001b[0m\u001b[0;34m\u001b[0m\u001b[0;34m\u001b[0m\u001b[0m\n\u001b[0m\u001b[1;32m    206\u001b[0m \u001b[0;34m\u001b[0m\u001b[0m\n\u001b[1;32m    207\u001b[0m \u001b[0;34m\u001b[0m\u001b[0m\n",
      "\u001b[0;32mh5py/_objects.pyx\u001b[0m in \u001b[0;36mh5py._objects.with_phil.wrapper\u001b[0;34m()\u001b[0m\n",
      "\u001b[0;32mh5py/_objects.pyx\u001b[0m in \u001b[0;36mh5py._objects.with_phil.wrapper\u001b[0;34m()\u001b[0m\n",
      "\u001b[0;32m~/opt/anaconda3/lib/python3.8/site-packages/h5py/_hl/dataset.py\u001b[0m in \u001b[0;36m__getitem__\u001b[0;34m(self, args)\u001b[0m\n\u001b[1;32m    541\u001b[0m             \u001b[0marr\u001b[0m \u001b[0;34m=\u001b[0m \u001b[0mnumpy\u001b[0m\u001b[0;34m.\u001b[0m\u001b[0mndarray\u001b[0m\u001b[0;34m(\u001b[0m\u001b[0mselection\u001b[0m\u001b[0;34m.\u001b[0m\u001b[0mmshape\u001b[0m\u001b[0;34m,\u001b[0m \u001b[0mdtype\u001b[0m\u001b[0;34m=\u001b[0m\u001b[0mnew_dtype\u001b[0m\u001b[0;34m)\u001b[0m\u001b[0;34m\u001b[0m\u001b[0;34m\u001b[0m\u001b[0m\n\u001b[1;32m    542\u001b[0m             \u001b[0;32mfor\u001b[0m \u001b[0mmspace\u001b[0m\u001b[0;34m,\u001b[0m \u001b[0mfspace\u001b[0m \u001b[0;32min\u001b[0m \u001b[0mselection\u001b[0m\u001b[0;34m:\u001b[0m\u001b[0;34m\u001b[0m\u001b[0;34m\u001b[0m\u001b[0m\n\u001b[0;32m--> 543\u001b[0;31m                 \u001b[0mself\u001b[0m\u001b[0;34m.\u001b[0m\u001b[0mid\u001b[0m\u001b[0;34m.\u001b[0m\u001b[0mread\u001b[0m\u001b[0;34m(\u001b[0m\u001b[0mmspace\u001b[0m\u001b[0;34m,\u001b[0m \u001b[0mfspace\u001b[0m\u001b[0;34m,\u001b[0m \u001b[0marr\u001b[0m\u001b[0;34m,\u001b[0m \u001b[0mmtype\u001b[0m\u001b[0;34m)\u001b[0m\u001b[0;34m\u001b[0m\u001b[0;34m\u001b[0m\u001b[0m\n\u001b[0m\u001b[1;32m    544\u001b[0m             \u001b[0;32mif\u001b[0m \u001b[0mlen\u001b[0m\u001b[0;34m(\u001b[0m\u001b[0mnames\u001b[0m\u001b[0;34m)\u001b[0m \u001b[0;34m==\u001b[0m \u001b[0;36m1\u001b[0m\u001b[0;34m:\u001b[0m\u001b[0;34m\u001b[0m\u001b[0;34m\u001b[0m\u001b[0m\n\u001b[1;32m    545\u001b[0m                 \u001b[0marr\u001b[0m \u001b[0;34m=\u001b[0m \u001b[0marr\u001b[0m\u001b[0;34m[\u001b[0m\u001b[0mnames\u001b[0m\u001b[0;34m[\u001b[0m\u001b[0;36m0\u001b[0m\u001b[0;34m]\u001b[0m\u001b[0;34m]\u001b[0m\u001b[0;34m\u001b[0m\u001b[0;34m\u001b[0m\u001b[0m\n",
      "\u001b[0;31mKeyboardInterrupt\u001b[0m: "
     ]
    }
   ],
   "source": [
    "peaklist = hkl.load(\"2022.11.16-prominent-peaks.hkl\")"
   ]
  },
  {
   "cell_type": "code",
   "execution_count": 45,
   "id": "57ca34db-1ae5-42bb-9c3f-187ca55778bd",
   "metadata": {},
   "outputs": [],
   "source": [
    "\n",
    "\n",
    "def parse_peaks(peaks, N=10):\n",
    "    idxs = np.zeros((10, 2), dtype='int32')\n",
    "    vs = np.zeros((10), dtype='float32')\n",
    "    for ii, p in enumerate(peaks):\n",
    "        idxs[ii] = p[0]\n",
    "        vs[ii]   = p[1]\n",
    "    return idxs, vs\n",
    "\n",
    "def parse_peaklist(peaklist):\n",
    "    peaks = np.zeros(shape=(11200, 10, 2), dtype='int32')\n",
    "    maxvals = np.zeros(shape=(11200, 10), dtype='float32')\n",
    "    for ii, pks in enumerate(peaklist):\n",
    "        idxs, vs = parse_peaks(pks)\n",
    "        peaks[ii]   = idxs\n",
    "        maxvals[ii] = vs\n",
    "    return peaks, maxvals\n",
    "\n",
    "def overlap(x, flip=True):\n",
    "    N_fine    = 32\n",
    "    N_overlap = 5\n",
    "    N_coarse  = 350\n",
    "    N_sel = N_fine - N_overlap*2 +1\n",
    "    ch0 = x[N_overlap:N_fine-N_overlap]\n",
    "    chs = []\n",
    "    \n",
    "    for ii in range(1, N_coarse):\n",
    "        ch = x[ii*N_fine:(ii+1)*N_fine]\n",
    "        if flip:\n",
    "            chs.append(ch[N_overlap-1:-N_overlap][::-1])\n",
    "        else:\n",
    "            chs.append(ch[N_overlap-1:-N_overlap])\n",
    "    return np.concatenate(chs)"
   ]
  },
  {
   "cell_type": "code",
   "execution_count": 34,
   "id": "3e773df6-db89-4803-88fe-addd753d64cb",
   "metadata": {},
   "outputs": [],
   "source": [
    "from astropy.io import fits\n",
    "a = fits.open('corr-data/chan_100_20200520T03433600.uvfits')"
   ]
  },
  {
   "cell_type": "code",
   "execution_count": 36,
   "id": "3d43c883-54bf-4856-9135-cd7bc80f1434",
   "metadata": {},
   "outputs": [
    {
     "data": {
      "text/plain": [
       "SIMPLE  =                    T / file does conform to FITS standard             \n",
       "BITPIX  =                  -32 / number of bits per data pixel                  \n",
       "NAXIS   =                    6 / number of data axes                            \n",
       "NAXIS1  =                    0 / length of data axis 1                          \n",
       "NAXIS2  =                    3 / length of data axis 2                          \n",
       "NAXIS3  =                    4 / length of data axis 3                          \n",
       "NAXIS4  =                   32 / length of data axis 4                          \n",
       "NAXIS5  =                    1 / length of data axis 5                          \n",
       "NAXIS6  =                    1 / length of data axis 6                          \n",
       "EXTEND  =                    T / FITS dataset may contain extensions            \n",
       "GROUPS  =                    T / random group records are present               \n",
       "PCOUNT  =                    5 / number of random group parameters              \n",
       "GCOUNT  =                32896 / number of random groups                        \n",
       "COMMENT   FITS (Flexible Image Transport System) format is defined in 'Astronomy\n",
       "COMMENT   and Astrophysics', volume 376, page 359; bibcode: 2001A&A...376..359H \n",
       "OBJECT  = 'eda2cal '                                                            \n",
       "OBSRA   =     57.1074226910519 / deprecated. Use CTYPE RA key instead           \n",
       "OBSDEC  =     20.0014967563831 / deprecated. Use CTYPE DEC key instead          \n",
       "TELESCOP= 'EDA2    '                                                            \n",
       "INSTRUME= '128T    '                                                            \n",
       "EPOCH   =                2000.                                                  \n",
       "BSCALE  =                   1.                                                  \n",
       "DATE-OBS= '2020-05-20T00:00:00.0'                                               \n",
       "PTYPE1  = 'UU      '                                                            \n",
       "PSCAL1  =                   1.                                                  \n",
       "PZERO1  =                   0.                                                  \n",
       "PTYPE2  = 'VV      '                                                            \n",
       "PSCAL2  =                   1.                                                  \n",
       "PZERO2  =                   0.                                                  \n",
       "PTYPE3  = 'WW      '                                                            \n",
       "PSCAL3  =                   1.                                                  \n",
       "PZERO3  =                   0.                                                  \n",
       "PTYPE4  = 'BASELINE'                                                            \n",
       "PSCAL4  =                   1.                                                  \n",
       "PZERO4  =                   0.                                                  \n",
       "PTYPE5  = 'DATE    '                                                            \n",
       "PSCAL5  =                   1.                                                  \n",
       "PZERO5  =            2458989.5                                                  \n",
       "CRVAL2  =                   1.                                                  \n",
       "CRPIX2  =                   1.                                                  \n",
       "CDELT2  =                   1.                                                  \n",
       "CTYPE2  = 'COMPLEX '                                                            \n",
       "CTYPE3  = 'STOKES  '                                                            \n",
       "CRVAL3  =                  -5.                                                  \n",
       "CRPIX3  =                   1.                                                  \n",
       "CDELT3  =                  -1.                                                  \n",
       "CTYPE4  = 'FREQ    '                                                            \n",
       "CRVAL4  =           7.8125E+07                                                  \n",
       "CRPIX4  =                  17.                                                  \n",
       "CDELT4  =             24414.06                                                  \n",
       "CTYPE5  = 'RA      '                                                            \n",
       "CRVAL5  =             57.10742                                                  \n",
       "CRPIX5  =                   1.                                                  \n",
       "CDELT5  =                   1.                                                  \n",
       "CTYPE6  = 'DEC     '                                                            \n",
       "CRVAL6  =              20.0015                                                  \n",
       "CRPIX6  =                   1.                                                  \n",
       "CDELT6  =                   1.                                                  \n",
       "HISTORY AIPS WTSCAL =  1.0                                                      \n",
       "COMMENT written by the UV FITS writer of RBW.                                   "
      ]
     },
     "execution_count": 36,
     "metadata": {},
     "output_type": "execute_result"
    }
   ],
   "source": [
    "a[0].header"
   ]
  },
  {
   "cell_type": "code",
   "execution_count": 108,
   "id": "d3e21d53-0ff1-4ce2-b1e9-346a9adcf715",
   "metadata": {},
   "outputs": [],
   "source": [
    "peaks, maxvals = parse_peaklist(peaklist)"
   ]
  },
  {
   "cell_type": "code",
   "execution_count": 48,
   "id": "ba658b24-6610-4c4f-a808-2e6fd1c31d75",
   "metadata": {},
   "outputs": [],
   "source": [
    "beams = hkl.load(\"beams-2022.11.14.hkl\")\n",
    "f_mhz  = beams['f_mhz']\n",
    "_f, b_sun  = apply_rfi_mask(overlap(f_mhz), overlap(beams['Sun']))\n",
    "_f, b_moon = apply_rfi_mask(overlap(f_mhz), overlap(beams['Moon']))\n",
    "_f, b_pic  = apply_rfi_mask(overlap(f_mhz), overlap(beams['Pictor_A']))\n",
    "_f, b_fnx  = apply_rfi_mask(overlap(f_mhz), overlap(beams['Fornax_A']))\n",
    "f_mhz = overlap(f_mhz, flip=True)"
   ]
  },
  {
   "cell_type": "code",
   "execution_count": 49,
   "id": "a09169ba-70a0-44cc-b095-25ff45db02f9",
   "metadata": {},
   "outputs": [
    {
     "data": {
      "application/vnd.jupyter.widget-view+json": {
       "model_id": "1f1d4849cc7b43e39f9a95cde55b0011",
       "version_major": 2,
       "version_minor": 0
      },
      "text/plain": [
       "Canvas(toolbar=Toolbar(toolitems=[('Home', 'Reset original view', 'home', 'home'), ('Back', 'Back to previous …"
      ]
     },
     "metadata": {},
     "output_type": "display_data"
    },
    {
     "data": {
      "text/plain": [
       "[<matplotlib.lines.Line2D at 0x7fcaa166c550>]"
      ]
     },
     "execution_count": 49,
     "metadata": {},
     "output_type": "execute_result"
    }
   ],
   "source": [
    "%matplotlib widget\n",
    "plt.plot(f_mhz, b_sun)"
   ]
  },
  {
   "cell_type": "code",
   "execution_count": 242,
   "id": "2697d255-156a-4f06-893d-4baa50be905a",
   "metadata": {},
   "outputs": [],
   "source": [
    "sun_idx = [110, 56]\n",
    "fornax_idx = [52, 63]\n",
    "hydra_idx = [27, 19]\n",
    "pictor_idx = [40, 40]\n",
    "\n",
    "labeldict = {}\n",
    "\n",
    "for l in set(labels):\n",
    "    lp = pidxs[labels == l]\n",
    "    if sun_idx in lp:\n",
    "        labeldict['Sun'] = l\n",
    "    if fornax_idx in lp:\n",
    "        labeldict['Fornax_A'] = l\n",
    "    if pictor_idx in lp:\n",
    "        labeldict['Pictor_A'] = l\n",
    "    if hydra_idx in lp:\n",
    "        labeldict['Hydra_A'] = l"
   ]
  },
  {
   "cell_type": "code",
   "execution_count": 241,
   "id": "2e5ca361-413f-4043-b9ef-9848d3be6ff3",
   "metadata": {},
   "outputs": [],
   "source": [
    "pidxs = peaks.reshape((11200*10, 2))\n",
    "clustering = DBSCAN(eps=2.5, min_samples=2).fit(pidxs)\n",
    "labels = clustering.labels_\n",
    "n_clusters_ = set(labels)"
   ]
  },
  {
   "cell_type": "code",
   "execution_count": 14,
   "id": "95ac577f-8b22-45fd-98be-79e2bccc5ce5",
   "metadata": {},
   "outputs": [],
   "source": [
    "import bottleneck as bn\n",
    "\n",
    "def find_closest(x, x0):\n",
    "    return np.argmin(np.abs(x-x0))\n",
    "\n",
    "def apply_rfi_mask(f, d):\n",
    "    #d = b_sun/b_pic\n",
    "    tmask = overlap(md['time'] > md['time'][0] - 2)\n",
    "    \n",
    "    m = bn.move_median(d, 64)\n",
    "    d = np.ma.array(d)\n",
    "    d.mask = d < 0\n",
    "    d.mask = np.logical_or(d.mask, ~tmask)\n",
    "    #d.mask = np.logical_or(d.mask, ~tmask)\n",
    "\n",
    "    masks = [\n",
    "        [88, 108],\n",
    "        [243, 270],\n",
    "        [243, 244.3],\n",
    "        [244.7, 245],\n",
    "        [246.1, 246.5],\n",
    "        [248, 271],\n",
    "        [103, 108.5],\n",
    "        [100.2, 100.4],\n",
    "        [146, 147],\n",
    "        [137, 137.2],\n",
    "        [346, 346.3],\n",
    "        [346.7, 348],\n",
    "        [349.6, 350.2],\n",
    "        [343, 350],\n",
    "        ]\n",
    "\n",
    "    for m in masks:\n",
    "        i0 = find_closest(m[0], f)\n",
    "        i1 = find_closest(m[1], f)\n",
    "        d.mask[i0:i1] = True\n",
    "        \n",
    "    return f, d\n"
   ]
  },
  {
   "cell_type": "code",
   "execution_count": 216,
   "id": "00917296-5c36-4201-93da-30f3231eabcf",
   "metadata": {},
   "outputs": [],
   "source": [
    "img = h['data'][0, :, :, 0]"
   ]
  },
  {
   "cell_type": "code",
   "execution_count": 225,
   "id": "6bc54a42-b38b-4bcf-aea5-dfea77dcb458",
   "metadata": {},
   "outputs": [
    {
     "data": {
      "text/plain": [
       "(40, 40)"
      ]
     },
     "execution_count": 225,
     "metadata": {},
     "output_type": "execute_result"
    }
   ],
   "source": [
    "idxarr[4, 0], idxarr[4, 1],"
   ]
  },
  {
   "cell_type": "code",
   "execution_count": 261,
   "id": "2eb55664-d5ee-4f4e-8c64-115e17b21d63",
   "metadata": {},
   "outputs": [
    {
     "data": {
      "text/plain": [
       "<matplotlib.collections.PathCollection at 0x7fe585a81e20>"
      ]
     },
     "execution_count": 261,
     "metadata": {},
     "output_type": "execute_result"
    },
    {
     "data": {
      "image/png": "[encoded data removed]",
      "text/plain": [
       "<Figure size 432x288 with 2 Axes>"
      ]
     },
     "metadata": {
      "needs_background": "light"
     },
     "output_type": "display_data"
    }
   ],
   "source": [
    "%matplotlib inline\n",
    "plt.imshow(img)\n",
    "plt.colorbar()\n",
    "plt.scatter(idxarr[4, 1], idxarr[4, 0], marker='x', color='red')"
   ]
  },
  {
   "cell_type": "code",
   "execution_count": 180,
   "id": "5ed5c4d6-5d4e-483a-a038-19c9d10421d1",
   "metadata": {},
   "outputs": [
    {
     "ename": "NameError",
     "evalue": "name 'idxarr' is not defined",
     "output_type": "error",
     "traceback": [
      "\u001b[0;31m---------------------------------------------------------------------------\u001b[0m",
      "\u001b[0;31mNameError\u001b[0m                                 Traceback (most recent call last)",
      "\u001b[0;32m/var/folders/n3/pbwrsp713bd28_l4xt61c7zh0000gn/T/ipykernel_809/3966147059.py\u001b[0m in \u001b[0;36m<module>\u001b[0;34m\u001b[0m\n\u001b[1;32m      1\u001b[0m \u001b[0masv\u001b[0m\u001b[0;34m.\u001b[0m\u001b[0mplot\u001b[0m\u001b[0;34m(\u001b[0m\u001b[0mimg\u001b[0m\u001b[0;34m,\u001b[0m\u001b[0moverlay_srcs\u001b[0m\u001b[0;34m=\u001b[0m\u001b[0;32mTrue\u001b[0m\u001b[0;34m)\u001b[0m\u001b[0;34m\u001b[0m\u001b[0;34m\u001b[0m\u001b[0m\n\u001b[0;32m----> 2\u001b[0;31m \u001b[0mplt\u001b[0m\u001b[0;34m.\u001b[0m\u001b[0mscatter\u001b[0m\u001b[0;34m(\u001b[0m\u001b[0midxarr\u001b[0m\u001b[0;34m[\u001b[0m\u001b[0;34m:\u001b[0m\u001b[0;36m5\u001b[0m\u001b[0;34m,\u001b[0m \u001b[0;36m1\u001b[0m\u001b[0;34m]\u001b[0m\u001b[0;34m,\u001b[0m \u001b[0midxarr\u001b[0m\u001b[0;34m[\u001b[0m\u001b[0;34m:\u001b[0m\u001b[0;36m5\u001b[0m\u001b[0;34m,\u001b[0m \u001b[0;36m0\u001b[0m\u001b[0;34m]\u001b[0m\u001b[0;34m,\u001b[0m \u001b[0mmarker\u001b[0m\u001b[0;34m=\u001b[0m\u001b[0;34m'x'\u001b[0m\u001b[0;34m,\u001b[0m \u001b[0mcolor\u001b[0m\u001b[0;34m=\u001b[0m\u001b[0;34m'red'\u001b[0m\u001b[0;34m)\u001b[0m\u001b[0;34m\u001b[0m\u001b[0;34m\u001b[0m\u001b[0m\n\u001b[0m",
      "\u001b[0;31mNameError\u001b[0m: name 'idxarr' is not defined"
     ]
    }
   ],
   "source": [
    "asv.plot(img,overlay_srcs=True)\n",
    "plt.scatter(idxarr[:5, 1], idxarr[:5, 0], marker='x', color='red')"
   ]
  },
  {
   "cell_type": "code",
   "execution_count": 98,
   "id": "d7a17574-1fad-4b70-abe4-e6e72d6c4faa",
   "metadata": {},
   "outputs": [],
   "source": []
  },
  {
   "cell_type": "code",
   "execution_count": 194,
   "id": "cb798f62-cf05-4b98-9a80-816bb6194d27",
   "metadata": {},
   "outputs": [
    {
     "name": "stdout",
     "output_type": "stream",
     "text": [
      "B_meas:\n"
     ]
    },
    {
     "data": {
      "text/plain": [
       "array([[50176.,  1600.],\n",
       "       [  216., 43008.]], dtype=float32)"
      ]
     },
     "metadata": {},
     "output_type": "display_data"
    },
    {
     "name": "stdout",
     "output_type": "stream",
     "text": [
      "J:\n"
     ]
    },
    {
     "data": {
      "text/plain": [
       "array([[223.98,   5.31],\n",
       "       [ -1.1 , 207.36]])"
      ]
     },
     "metadata": {},
     "output_type": "display_data"
    }
   ],
   "source": [
    "p = h['data'][0, 64, 64, :]\n",
    "p = np.matrix([[p[0], p[3]], [p[2], p[1]]])\n",
    "\n",
    "print(\"B_meas:\")\n",
    "display(np.round(p, 2))\n",
    "\n",
    "print(\"J:\")\n",
    "J = compute_J(p)\n",
    "display(np.round(J, 2))"
   ]
  },
  {
   "cell_type": "code",
   "execution_count": 191,
   "id": "0e1c2fc8-9d9e-4f01-8625-20982aeefc49",
   "metadata": {},
   "outputs": [],
   "source": [
    "from numpy.linalg import svd\n",
    "\n",
    "def compute_J(p):\n",
    "    u, d, uh = svd(p, hermitian=False)\n",
    "    Dsqrt = np.matrix(np.array(((np.sqrt(d[0]), 0), (0, np.sqrt(d[1])))))\n",
    "    J = np.matmul(np.matmul(u, Dsqrt), uh)\n",
    "    return J\n",
    "\n",
    "def dejones(J, p):\n",
    "    return np.matmul(np.matmul(J.I, p), np.conj(J.I))"
   ]
  },
  {
   "cell_type": "code",
   "execution_count": 177,
   "id": "87a142c6-e8b2-47f0-92d4-1d646e9e199b",
   "metadata": {},
   "outputs": [
    {
     "data": {
      "text/plain": [
       "array([[219.21,   8.56],\n",
       "       [  8.56, 199.66]])"
      ]
     },
     "execution_count": 177,
     "metadata": {},
     "output_type": "execute_result"
    }
   ],
   "source": []
  },
  {
   "cell_type": "code",
   "execution_count": 168,
   "id": "e2cab8bf-71c7-4166-b3a4-98dd4511b1d7",
   "metadata": {},
   "outputs": [],
   "source": []
  },
  {
   "cell_type": "code",
   "execution_count": 175,
   "id": "537ed40b-decd-4e0d-b9e0-23f04c22bcc1",
   "metadata": {},
   "outputs": [
    {
     "data": {
      "text/plain": [
       "array([[1.  , 0.03],\n",
       "       [0.  , 1.  ]])"
      ]
     },
     "execution_count": 175,
     "metadata": {},
     "output_type": "execute_result"
    }
   ],
   "source": []
  },
  {
   "attachments": {
    "76fd8557-bafd-4a2a-9e88-5b9b676aaaa6.png": {
     "image/png": "[encoded data removed]"
    }
   },
   "cell_type": "markdown",
   "id": "0a766043-a092-4308-8167-7c894681d8d5",
   "metadata": {},
   "source": [
    "![image.png](attachment:76fd8557-bafd-4a2a-9e88-5b9b676aaaa6.png)"
   ]
  },
  {
   "cell_type": "code",
   "execution_count": 176,
   "id": "e1d9f403-07d8-4a60-8efe-46d23b5bf2be",
   "metadata": {},
   "outputs": [
    {
     "data": {
      "text/plain": [
       "matrix([[219.2140271 ,   8.55633495],\n",
       "        [  8.55633495, 199.65669054]])"
      ]
     },
     "execution_count": 176,
     "metadata": {},
     "output_type": "execute_result"
    }
   ],
   "source": [
    "J"
   ]
  },
  {
   "cell_type": "code",
   "execution_count": 195,
   "id": "1a3ad5cc-f96a-4fa5-a37a-58b269375ba8",
   "metadata": {},
   "outputs": [],
   "source": [
    "A_over_T_low = 679.4"
   ]
  },
  {
   "cell_type": "code",
   "execution_count": 198,
   "id": "8fcabd5c-9f13-4b71-94d1-a26d159dccee",
   "metadata": {},
   "outputs": [],
   "source": [
    "from astropy.constants import k_B\n",
    "import astropy.units as u"
   ]
  },
  {
   "cell_type": "code",
   "execution_count": 240,
   "id": "a19e0b0d-30ef-41b9-97cf-dc4486c036d4",
   "metadata": {},
   "outputs": [],
   "source": [
    "A_over_T_low = 679.4\n",
    "SEFD_low = 2 * k_B / A_over_T_low * (u.K / (u.m**2))\n",
    "SEFD_low = SEFD_low.to('Jy')\n",
    "\n",
    "A_over_T_mid = 1168   # at 8 GHz\n",
    "SEFD_mid = 2 * k_B / A_over_T_mid * (u.K / (u.m**2))\n",
    "SEFD_mid = SEFD_mid.to('Jy')"
   ]
  },
  {
   "cell_type": "code",
   "execution_count": 241,
   "id": "7189ade2-6b83-47e0-84d1-373aa65b48bc",
   "metadata": {},
   "outputs": [
    {
     "data": {
      "text/latex": [
       "$4.0643185 \\; \\mathrm{Jy}$"
      ],
      "text/plain": [
       "<Quantity 4.06431852 Jy>"
      ]
     },
     "metadata": {},
     "output_type": "display_data"
    },
    {
     "data": {
      "text/latex": [
       "$2.364125 \\; \\mathrm{Jy}$"
      ],
      "text/plain": [
       "<Quantity 2.364125 Jy>"
      ]
     },
     "metadata": {},
     "output_type": "display_data"
    }
   ],
   "source": [
    "display(SEFD_low)\n",
    "display(SEFD_mid)"
   ]
  },
  {
   "attachments": {
    "07319995-bf28-4aa4-b11f-8263fb192ad6.png": {
     "image/png": "[encoded data removed]"
    }
   },
   "cell_type": "markdown",
   "id": "d7c5a8ff-44c1-45d9-9774-c92c56b28715",
   "metadata": {},
   "source": [
    "![image.png](attachment:07319995-bf28-4aa4-b11f-8263fb192ad6.png)"
   ]
  },
  {
   "cell_type": "code",
   "execution_count": 216,
   "id": "93bfeb30-79f2-4e23-8442-f8fb23cac7f7",
   "metadata": {},
   "outputs": [
    {
     "data": {
      "text/latex": [
       "$1.380649 \\times 10^{-23} \\; \\mathrm{\\frac{J}{K}}$"
      ],
      "text/plain": [
       "<<class 'astropy.constants.codata2018.CODATA2018'> name='Boltzmann constant' value=1.380649e-23 uncertainty=0.0 unit='J / K' reference='CODATA 2018'>"
      ]
     },
     "execution_count": 216,
     "metadata": {},
     "output_type": "execute_result"
    }
   ],
   "source": [
    "k_B"
   ]
  },
  {
   "cell_type": "code",
   "execution_count": 264,
   "id": "97f56eb6-2b6b-4337-bd2d-d0b642400d7f",
   "metadata": {},
   "outputs": [
    {
     "data": {
      "text/latex": [
       "$0.019631887 \\; \\mathrm{W}$"
      ],
      "text/plain": [
       "<Quantity 0.01963189 W>"
      ]
     },
     "execution_count": 264,
     "metadata": {},
     "output_type": "execute_result"
    }
   ],
   "source": []
  },
  {
   "cell_type": "code",
   "execution_count": 276,
   "id": "b23331dd-af7c-42df-9b13-b820ef8624cb",
   "metadata": {},
   "outputs": [
    {
     "data": {
      "text/latex": [
       "$0.84749998 \\; \\mathrm{W}$"
      ],
      "text/plain": [
       "<Quantity 0.84749998 W>"
      ]
     },
     "execution_count": 276,
     "metadata": {},
     "output_type": "execute_result"
    }
   ],
   "source": [
    "cbw  = 10 * u.kHz\n",
    "npol = 1\n",
    "tobs = 120 * u.s # 1 hr \n",
    "D = 250e6 * u.km\n",
    "L = (SEFD_mid * np.sqrt( npol / tobs * cbw)) * 4 * np.pi * D**2 * 5\n",
    "L.to('W')"
   ]
  },
  {
   "cell_type": "code",
   "execution_count": 237,
   "id": "64d244d1-a65c-42f7-90f4-8e0432437569",
   "metadata": {},
   "outputs": [
    {
     "data": {
      "text/plain": [
       "1.9230917289"
      ]
     },
     "execution_count": 237,
     "metadata": {},
     "output_type": "execute_result"
    }
   ],
   "source": [
    "1923091.7289 / 1e6"
   ]
  },
  {
   "cell_type": "code",
   "execution_count": null,
   "id": "8005cd0c-7405-49a3-a2fa-5ac7ee672da7",
   "metadata": {},
   "outputs": [],
   "source": []
  }
 ],
 "metadata": {
  "kernelspec": {
   "display_name": "Python 3 (ipykernel)",
   "language": "python",
   "name": "python3"
  },
  "language_info": {
   "codemirror_mode": {
    "name": "ipython",
    "version": 3
   },
   "file_extension": ".py",
   "mimetype": "text/x-python",
   "name": "python",
   "nbconvert_exporter": "python",
   "pygments_lexer": "ipython3",
   "version": "3.8.5"
  }
 },
 "nbformat": 4,
 "nbformat_minor": 5
}
